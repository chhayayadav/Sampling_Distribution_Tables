{
  "nbformat": 4,
  "nbformat_minor": 0,
  "metadata": {
    "colab": {
      "name": "Sampling_Distribution.ipynb",
      "provenance": [],
      "authorship_tag": "ABX9TyPbsMRupoMRnYASMrI2lbEf",
      "include_colab_link": true
    },
    "kernelspec": {
      "name": "python3",
      "display_name": "Python 3"
    }
  },
  "cells": [
    {
      "cell_type": "markdown",
      "metadata": {
        "id": "view-in-github",
        "colab_type": "text"
      },
      "source": [
        "<a href=\"https://colab.research.google.com/github/chhayayadav/Sampling_Distribution_Tables/blob/master/Sampling_Distribution.ipynb\" target=\"_parent\"><img src=\"https://colab.research.google.com/assets/colab-badge.svg\" alt=\"Open In Colab\"/></a>"
      ]
    },
    {
      "cell_type": "code",
      "metadata": {
        "id": "OfitpH2j0XfI",
        "colab_type": "code",
        "outputId": "1025e83f-ef13-42c0-ea2f-bfa95e6edc4a",
        "colab": {
          "base_uri": "https://localhost:8080/",
          "height": 52
        }
      },
      "source": [
        "from scipy.stats import norm\n",
        "import matplotlib.pyplot as plt\n",
        "Z0= input(\"enter value of Z0 and calculate P(Z<Z0)\")\n",
        "norm.cdf(float(Z0), loc=0, scale=1)"
      ],
      "execution_count": 0,
      "outputs": [
        {
          "output_type": "stream",
          "text": [
            "enter value of Z0 and calculate P(Z<Z0)2\n"
          ],
          "name": "stdout"
        },
        {
          "output_type": "execute_result",
          "data": {
            "text/plain": [
              "0.9772498680518208"
            ]
          },
          "metadata": {
            "tags": []
          },
          "execution_count": 12
        }
      ]
    },
    {
      "cell_type": "code",
      "metadata": {
        "id": "kGUJFG_s9hFf",
        "colab_type": "code",
        "outputId": "adf11c4f-130f-4d69-ae95-99d0fefe8c4f",
        "colab": {
          "base_uri": "https://localhost:8080/",
          "height": 69
        }
      },
      "source": [
        "from scipy.stats import chi2\n",
        "alpha= input(\"enter value of alpha \")\n",
        "dof= input(\"enter degree of freedoms\")\n",
        "chi2.pdf(float(alpha),int(dof), loc=0, scale=1)"
      ],
      "execution_count": 0,
      "outputs": [
        {
          "output_type": "stream",
          "text": [
            "enter value of alpha 0.05\n",
            "enter degree of freedoms1\n"
          ],
          "name": "stdout"
        },
        {
          "output_type": "execute_result",
          "data": {
            "text/plain": [
              "3.8414588206941285"
            ]
          },
          "metadata": {
            "tags": []
          },
          "execution_count": 17
        }
      ]
    },
    {
      "cell_type": "code",
      "metadata": {
        "id": "CoJm11sAAYPa",
        "colab_type": "code",
        "outputId": "2a93c90a-2488-43e0-e5ed-532d310da0cd",
        "colab": {
          "base_uri": "https://localhost:8080/",
          "height": 69
        }
      },
      "source": [
        "from scipy.stats import t\n",
        "alpha= input(\"enter value of alpha \")\n",
        "dof= input(\"enter degree of freedoms\")\n",
        "t.pdf(float(alpha),int(dof), loc=0, scale=1)"
      ],
      "execution_count": 0,
      "outputs": [
        {
          "output_type": "stream",
          "text": [
            "enter value of alpha 0.5\n",
            "enter degree of freedoms100\n"
          ],
          "name": "stdout"
        },
        {
          "output_type": "execute_result",
          "data": {
            "text/plain": [
              "0.6909132170845567"
            ]
          },
          "metadata": {
            "tags": []
          },
          "execution_count": 18
        }
      ]
    },
    {
      "cell_type": "code",
      "metadata": {
        "id": "pcIMGGp9BJd3",
        "colab_type": "code",
        "outputId": "7fb135c2-14e1-4c0e-fec7-0347cd410187",
        "colab": {
          "base_uri": "https://localhost:8080/",
          "height": 87
        }
      },
      "source": [
        "from scipy.stats import f\n",
        "alpha= input(\"enter value of alpha \")\n",
        "dofn= input(\"enter degree of freedoms of numerator\")\n",
        "dofd= input(\"enter degree of freedoms of denominator\")\n",
        "f.pdf(float(alpha),int(dofn),int(dofd),loc=0, scale=1)"
      ],
      "execution_count": 0,
      "outputs": [
        {
          "output_type": "stream",
          "text": [
            "enter value of alpha 0.025\n",
            "enter degree of freedoms of numerator5\n",
            "enter degree of freedoms of denominator3\n"
          ],
          "name": "stdout"
        },
        {
          "output_type": "execute_result",
          "data": {
            "text/plain": [
              "0.000642512164940191"
            ]
          },
          "metadata": {
            "tags": []
          },
          "execution_count": 19
        }
      ]
    }
  ]
}
